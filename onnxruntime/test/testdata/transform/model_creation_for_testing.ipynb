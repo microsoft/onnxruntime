{
 "cells": [
  {
   "cell_type": "markdown",
   "metadata": {},
   "source": [
    "## Build ONNX models for testing ONNX Runtime\n",
    "Many of these models are used to test ONNX Runtime's graph transformations."
   ]
  },
  {
   "cell_type": "code",
   "execution_count": null,
   "metadata": {},
   "outputs": [],
   "source": [
    "import onnx\n",
    "from onnx import helper, shape_inference\n",
    "from onnx import AttributeProto, TensorProto, GraphProto\n",
    "import os.path\n",
    "import numpy as np"
   ]
  },
  {
   "cell_type": "code",
   "execution_count": null,
   "metadata": {},
   "outputs": [],
   "source": [
    "import pkg_resources\n",
    "pkg_resources.get_distribution(\"onnx\").version"
   ]
  },
  {
   "cell_type": "code",
   "execution_count": null,
   "metadata": {},
   "outputs": [],
   "source": [
    "def save_model(onnx_graph, name) :\n",
    "    model_def = helper.make_model(onnx_graph, producer_name='ort-transformations')\n",
    "    model_def = shape_inference.infer_shapes(model_def)\n",
    "    onnx.checker.check_model(model_def)\n",
    "    print('Shape is inferred and model is checked.')\n",
    "    onnx.save(model_def, os.path.join('gen-models', str(name) + '.onnx'))\n",
    "    print('Model is saved.')"
   ]
  },
  {
   "cell_type": "markdown",
   "metadata": {},
   "source": [
    "### Two-transposes"
   ]
  },
  {
   "cell_type": "code",
   "execution_count": null,
   "metadata": {},
   "outputs": [],
   "source": [
    "model_name = 'two-transposes'\n",
    "\n",
    "# Preprocessing: create a model with two transposes\n",
    "node1 = helper.make_node('Transpose', ['X'], ['Y'], perm=[1, 0, 2])\n",
    "node2 = helper.make_node('Transpose', ['Y'], ['Z'], perm=[1, 0, 2])\n",
    "\n",
    "graph = helper.make_graph(\n",
    "    [node1, node2],\n",
    "    model_name,\n",
    "    [helper.make_tensor_value_info('X', TensorProto.FLOAT, (2, 3, 4))],\n",
    "    [helper.make_tensor_value_info('Z', TensorProto.FLOAT, (2, 3, 4))],\n",
    ")\n",
    "\n",
    "save_model(graph, model_name)"
   ]
  },
  {
   "cell_type": "markdown",
   "metadata": {},
   "source": [
    "### Abs single node with initializer"
   ]
  },
  {
   "cell_type": "code",
   "execution_count": null,
   "metadata": {},
   "outputs": [],
   "source": [
    "model_name = 'abs-model'\n",
    "\n",
    "X = np.int8([-127,-4,0,3,127])\n",
    "\n",
    "# Create one output (ValueInfoProto)\n",
    "Y = helper.make_tensor_value_info('Y', TensorProto.INT8, X.shape)\n",
    "X_INFO = helper.make_tensor_value_info('X', TensorProto.INT8, X.shape)\n",
    "\n",
    "tensor_x = onnx.helper.make_tensor(\n",
    "                name='X',\n",
    "                data_type=onnx.TensorProto.INT8,\n",
    "                dims=X.shape,\n",
    "                vals=X.tobytes(),raw=True);\n",
    "# Create a node (NodeProto)\n",
    "node_def = helper.make_node(\n",
    "    'Abs',\n",
    "    inputs=['X'],\n",
    "    outputs=['Y'],\n",
    ")\n",
    "\n",
    "# Create the graph (GraphProto)\n",
    "graph_def = helper.make_graph(\n",
    "    [node_def],\n",
    "    model_name,\n",
    "    inputs=[],\n",
    "    outputs=[Y],\n",
    "    initializer=[tensor_x]\n",
    ")\n",
    "\n",
    "save_model(graph_def, model_name)"
   ]
  },
  {
   "cell_type": "markdown",
   "metadata": {},
   "source": [
    "### Abs and identity model"
   ]
  },
  {
   "cell_type": "code",
   "execution_count": null,
   "metadata": {},
   "outputs": [],
   "source": [
    "model_name = 'abs-id'\n",
    "\n",
    "node1 = helper.make_node('Abs', ['X'], ['Y'])\n",
    "node2 = helper.make_node('Identity', ['Y'], ['Z'])\n",
    "\n",
    "graph = helper.make_graph(\n",
    "    [node1, node2],\n",
    "    model_name,\n",
    "    [helper.make_tensor_value_info('X', TensorProto.FLOAT, (2, 3, 4))],\n",
    "    [helper.make_tensor_value_info('Z', TensorProto.FLOAT, (2, 3, 4))],\n",
    ")\n",
    "\n",
    "save_model(graph, model_name)"
   ]
  },
  {
   "cell_type": "markdown",
   "metadata": {},
   "source": [
    "### Abs-id-abs model"
   ]
  },
  {
   "cell_type": "code",
   "execution_count": null,
   "metadata": {},
   "outputs": [],
   "source": [
    "model_name = 'abs-id-max'\n",
    "\n",
    "gnodes = []\n",
    "gnodes.append(helper.make_node('Abs', ['A'], ['B']))\n",
    "gnodes.append(helper.make_node('Identity', ['B'], ['C']))\n",
    "gnodes.append(helper.make_node('Max', ['C'], ['D']))\n",
    "\n",
    "graph = helper.make_graph(\n",
    "    gnodes,\n",
    "    model_name,\n",
    "    [helper.make_tensor_value_info('A', TensorProto.FLOAT, (2, 3, 4))],\n",
    "    [helper.make_tensor_value_info('D', TensorProto.FLOAT, (2, 3, 4))],\n",
    ")\n",
    "\n",
    "save_model(graph, model_name)"
   ]
  },
  {
   "cell_type": "markdown",
   "metadata": {},
   "source": [
    "### Shape-abs-id-max"
   ]
  },
  {
   "cell_type": "code",
   "execution_count": null,
   "metadata": {},
   "outputs": [],
   "source": [
    "model_name = 'shape-add'\n",
    "\n",
    "gnodes = []\n",
    "gnodes.append(helper.make_node('Shape', ['A'], ['D']))\n",
    "gnodes.append(helper.make_node('Shape', ['B'], ['E']))\n",
    "gnodes.append(helper.make_node('Shape', ['C'], ['G']))\n",
    "gnodes.append(helper.make_node('Add', ['D', 'E'], ['F']))\n",
    "gnodes.append(helper.make_node('Add', ['F', 'G'], ['H']))\n",
    "gnodes.append(helper.make_node('Shape', ['H'], ['I']))\n",
    "gnodes.append(helper.make_node('Identity', ['I'], ['J']))\n",
    "\n",
    "graph = helper.make_graph(\n",
    "    gnodes,\n",
    "    model_name,\n",
    "    [helper.make_tensor_value_info('A', TensorProto.FLOAT, (2, 3, 4)), \n",
    "     helper.make_tensor_value_info('B', TensorProto.FLOAT, (2, 'N', 4)),\n",
    "     helper.make_tensor_value_info('C', TensorProto.FLOAT, (2, 3, -1))],\n",
    "    [helper.make_tensor_value_info('J', TensorProto.INT64, (1,))],\n",
    ")\n",
    "\n",
    "save_model(graph, model_name)"
   ]
  },
  {
   "cell_type": "markdown",
   "metadata": {},
   "source": [
    "### Abs-id-id-max model"
   ]
  },
  {
   "cell_type": "code",
   "execution_count": null,
   "metadata": {},
   "outputs": [],
   "source": [
    "model_name = 'abs-2id-max'\n",
    "\n",
    "gnodes = []\n",
    "gnodes.append(helper.make_node('Abs', ['A'], ['B']))\n",
    "gnodes.append(helper.make_node('Identity', ['B'], ['C']))\n",
    "gnodes.append(helper.make_node('Identity', ['C'], ['D']))\n",
    "gnodes.append(helper.make_node('Max', ['D'], ['E']))\n",
    "\n",
    "graph = helper.make_graph(\n",
    "    gnodes,\n",
    "    model_name,\n",
    "    [helper.make_tensor_value_info('A', TensorProto.FLOAT, (2, 3, 4))],\n",
    "    [helper.make_tensor_value_info('E', TensorProto.FLOAT, (2, 3, 4))],\n",
    ")\n",
    "\n",
    "save_model(graph, model_name)"
   ]
  },
  {
   "cell_type": "markdown",
   "metadata": {},
   "source": [
    "### Slice-elimination model (opset 1)\n",
    "(**Note**: It will not work with opset 10 or higher.)"
   ]
  },
  {
   "cell_type": "code",
   "execution_count": null,
   "metadata": {},
   "outputs": [],
   "source": [
    "model_name = 'slice-elim'\n",
    "\n",
    "gnodes = []\n",
    "gnodes.append(helper.make_node('Abs', ['A'], ['B']))\n",
    "gnodes.append(helper.make_node('Slice', ['B'], ['C'], axes=[0,1], starts=[0,0], ends=[9223372036854775807,9223372036854775807]))\n",
    "gnodes.append(helper.make_node('Slice', ['C'], ['D'], starts=[0,0,0], ends=[9223372036854775807,7,9223372036854775807]))\n",
    "gnodes.append(helper.make_node('Min', ['D'], ['E']))\n",
    "gnodes.append(helper.make_node('Slice', ['E'], ['F'], axes=[1], starts=[1], ends=[9223372036854775807]))\n",
    "gnodes.append(helper.make_node('Slice', ['F'], ['G'], axes=[1], starts=[0], ends=[9223372036854775807]))\n",
    "gnodes.append(helper.make_node('Max', ['G'], ['H']))\n",
    "gnodes.append(helper.make_node('Slice', ['H'], ['I'], axes=[2], starts=[0], ends=[9223372036854775807]))\n",
    "\n",
    "graph = helper.make_graph(\n",
    "    gnodes,\n",
    "    model_name,\n",
    "    [helper.make_tensor_value_info('A', TensorProto.FLOAT, (5, 3, 7))],\n",
    "    [helper.make_tensor_value_info('I', TensorProto.FLOAT, (5, 2, 7))],\n",
    ")\n",
    "\n",
    "save_model(graph, model_name)"
   ]
  },
  {
   "cell_type": "markdown",
   "metadata": {},
   "source": [
    "### Slice-elimination model (opset 10)"
   ]
  },
  {
   "cell_type": "code",
   "execution_count": null,
   "metadata": {},
   "outputs": [],
   "source": [
    "model_name = 'slice-v11-elim'\n",
    "\n",
    "\n",
    "graph = helper.make_graph(\n",
    "    [ # nodes\n",
    "        helper.make_node('Abs', ['A'], ['B']),\n",
    "        # Will not be removed because of negative starts value.\n",
    "        helper.make_node('Slice', ['B', 'startsB', 'endsB', 'axesB'], ['C']),\n",
    "        # Will not be removed because of non-MAX_INT ends value.\n",
    "        helper.make_node('Slice', ['C', 'startsC', 'endsC'], ['D']),\n",
    "        helper.make_node('Min', ['D'], ['E']),\n",
    "        # Will not be removed because of non-1 steps value.\n",
    "        helper.make_node('Slice', ['E', 'startsE', 'endsE', 'axesE', 'stepsE'], ['F']),\n",
    "        # Will be removed.\n",
    "        helper.make_node('Slice', ['F', 'startsF', 'endsF', 'axesF'], ['G']),\n",
    "        # Will not be removed because of endsG appearing in graph inputs (can be overridden).\n",
    "        helper.make_node('Slice', ['G', 'startsG', 'endsG'], ['H']),\n",
    "        helper.make_node('Max', ['H'], ['I']),\n",
    "        # Will not be removed because node output participates in graph output.\n",
    "        helper.make_node('Slice', ['I', 'startsI', 'endsI', 'axesI', 'stepsI'], ['J'])\n",
    "    ],\n",
    "    \"Slice11Elim\",  #name\n",
    "    [  # inputs\n",
    "        helper.make_tensor_value_info('A', TensorProto.FLOAT, (5, 3, 7)),\n",
    "        helper.make_tensor_value_info('endsG', TensorProto.INT64, (1,))\n",
    "    ],\n",
    "    [  # outputs\n",
    "        helper.make_tensor_value_info('J', TensorProto.FLOAT, None)\n",
    "    ],\n",
    "    [  # initializers\n",
    "        helper.make_tensor('axesB', TensorProto.INT64, [2], [0,1]),\n",
    "        helper.make_tensor('startsB', TensorProto.INT64, [2], [0,-1]),\n",
    "        helper.make_tensor('endsB', TensorProto.INT64, [2], [9223372036854775807,9223372036854775807]),\n",
    "        helper.make_tensor('startsC', TensorProto.INT64, [3], [0,0,0]),\n",
    "        helper.make_tensor('endsC', TensorProto.INT64, [3], [9223372036854775807,7,9223372036854775807]),\n",
    "        helper.make_tensor('axesE', TensorProto.INT64, [2], [0,1]),\n",
    "        helper.make_tensor('stepsE', TensorProto.INT64, [2], [1,3]),\n",
    "        helper.make_tensor('startsE', TensorProto.INT64, [2], [0,0]),\n",
    "        helper.make_tensor('endsE', TensorProto.INT64, [2], [9223372036854775807,9223372036854775807]),\n",
    "        helper.make_tensor('axesF', TensorProto.INT64, [2], [1,0]),\n",
    "        helper.make_tensor('startsF', TensorProto.INT64, [2], [0,0]),\n",
    "        helper.make_tensor('endsF', TensorProto.INT64, [2], [9223372036854775807, 9223372036854775807]),\n",
    "        helper.make_tensor('startsG', TensorProto.INT64, [1], [0]),\n",
    "        helper.make_tensor('endsG', TensorProto.INT64, [1], [9223372036854775807]),\n",
    "        helper.make_tensor('axesI', TensorProto.INT64, [1], [2]),\n",
    "        helper.make_tensor('stepsI', TensorProto.INT64, [1], [1]),\n",
    "        helper.make_tensor('startsI', TensorProto.INT64, [1], [0]),\n",
    "        helper.make_tensor('endsI', TensorProto.INT64, [1], [9223372036854775807])\n",
    "    ]\n",
    ")\n",
    "\n",
    "save_model(graph, model_name)"
   ]
  },
  {
   "cell_type": "markdown",
   "metadata": {},
   "source": [
    "### Zero-node graph"
   ]
  },
  {
   "cell_type": "code",
   "execution_count": null,
   "metadata": {},
   "outputs": [],
   "source": [
    "model_name = 'zero-node'\n",
    "\n",
    "gnodes = []\n",
    "\n",
    "X = np.int8([-127,-4,0,3,127])\n",
    "\n",
    "graph = helper.make_graph(\n",
    "    [],\n",
    "    model_name,\n",
    "    [helper.make_tensor_value_info('A', TensorProto.INT8, X.shape)],\n",
    "    [helper.make_tensor_value_info('A', TensorProto.INT8, X.shape)],\n",
    "    []\n",
    ")\n",
    "\n",
    "save_model(graph, model_name)"
   ]
  },
  {
   "cell_type": "markdown",
   "metadata": {},
   "source": [
    "### Simple add graph with batch dimension"
   ]
  },
  {
   "cell_type": "code",
   "execution_count": null,
   "metadata": {},
   "outputs": [],
   "source": [
    "model_name = 'simple-add-sym'\n",
    "\n",
    "\n",
    "node1 = helper.make_node('Add', ['X', 'Y'], ['Z'])\n",
    "\n",
    "graph = helper.make_graph(\n",
    "    [node1],\n",
    "    model_name,\n",
    "    [helper.make_tensor_value_info('X', TensorProto.INT32, (\"sym\",1)), helper.make_tensor_value_info('Y', TensorProto.INT32, (\"sym\",1))],\n",
    "    [helper.make_tensor_value_info('Z', TensorProto.INT32, (\"sym\", 1))],\n",
    ")\n",
    "\n",
    "save_model(graph, model_name)"
   ]
  },
  {
   "cell_type": "code",
   "execution_count": null,
   "metadata": {},
   "outputs": [],
   "source": []
  }
 ],
 "metadata": {
  "kernelspec": {
   "display_name": "Python 3",
   "language": "python",
   "name": "python3"
  },
  "language_info": {
   "codemirror_mode": {
    "name": "ipython",
    "version": 3
   },
   "file_extension": ".py",
   "mimetype": "text/x-python",
   "name": "python",
   "nbconvert_exporter": "python",
   "pygments_lexer": "ipython3",
   "version": "3.7.0"
  }
 },
 "nbformat": 4,
 "nbformat_minor": 2
}
