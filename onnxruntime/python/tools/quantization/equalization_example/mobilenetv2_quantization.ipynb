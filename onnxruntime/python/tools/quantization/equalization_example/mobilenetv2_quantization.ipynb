{
 "cells": [
  {
   "cell_type": "code",
   "execution_count": 1,
   "metadata": {},
   "outputs": [
    {
     "name": "stdout",
     "output_type": "stream",
     "text": [
      "Python version\n",
      "3.8.6 | packaged by conda-forge | (default, Oct  7 2020, 18:22:52) [MSC v.1916 64 bit (AMD64)]\n",
      "Version info.\n",
      "sys.version_info(major=3, minor=8, micro=6, releaselevel='final', serial=0)\n"
     ]
    }
   ],
   "source": [
    "import sys\n",
    "print(\"Python version\")\n",
    "print (sys.version)\n",
    "print(\"Version info.\")\n",
    "print (sys.version_info)"
   ]
  },
  {
   "cell_type": "markdown",
   "metadata": {},
   "source": [
    "## Introduction\n",
    "\n",
    "Quantization has been shown to give 2-4x reduction in model size and as much as have an increase in model throughput. However, quantization also has been linked to significant degradation of model accuracy. By using model equalization, engineers are able to amiliorate the concerns of quantized model accuracy degradation at no expense to the optimizations of model size and throughput.\n",
    "\n",
    "This tutorial shows how to preserve model accuracy through cross layer equalization, as well as how to perform either data-free model quantization or calibrated model quantization. This quantization functionality has recently been enabled in ONNX Runtime, allowing for significant performance gains on processors with AVX-512 VNNI instructions or similar quantization optimized hardware.\n",
    "\n",
    "The process of quantization has a few steps, which includes: \n",
    "\n",
    "0. Import Modules, \n",
    "1. Define Data Loader, \n",
    "2. Export Model to ONNX, \n",
    "3. Equalize Model, \n",
    "4. Quantize Model, \n",
    "5. Validation Inference, and \n",
    "6. Final Results. \n",
    "\n",
    "We will be converting a model from, and do data loading with, PyTorch. These steps can also be done from any other ONNX supported framework."
   ]
  },
  {
   "cell_type": "markdown",
   "metadata": {},
   "source": [
    "## 0. Import Modules\n",
    "\n",
    "This tutorial involves a few libraries. There uses are as follows:\n",
    "- onnx and onnxruntime are used for model loading and inference. \n",
    "- torch and torchvision are used for data loading (with multi-process image preprocessing)\n",
    "- numpy is used to store model results\n",
    "- sklearn.metrics enables calculations such as accuracy, precision, recall, F1 score, etc.\n",
    "- matplotlib is used to create the bar plots displaying the resulting metrics\n",
    "\n",
    "Note the version of onnx and onnxruntime used to make this notebook possible."
   ]
  },
  {
   "cell_type": "code",
   "execution_count": 2,
   "metadata": {},
   "outputs": [
    {
     "name": "stdout",
     "output_type": "stream",
     "text": [
      "onnx 1.8.0\n",
      "onnxruntime 1.5.2\n"
     ]
    }
   ],
   "source": [
    "# Model and Inference\n",
    "import onnx\n",
    "import onnx.numpy_helper\n",
    "import onnxruntime\n",
    "import onnxruntime.quantization\n",
    "\n",
    "# Data Loader\n",
    "import torch\n",
    "import torchvision\n",
    "\n",
    "# Evaluation\n",
    "import numpy as np\n",
    "import sklearn.metrics\n",
    "\n",
    "# Visualization\n",
    "import matplotlib.pyplot as plt\n",
    "%matplotlib inline\n",
    "plt.style.use('ggplot')\n",
    "\n",
    "# Other Utilities\n",
    "import os\n",
    "import pandas as pd\n",
    "from tqdm import tqdm\n",
    "\n",
    "\n",
    "print(\"onnx\", onnx.__version__)\n",
    "print(\"onnxruntime\", onnxruntime.__version__)"
   ]
  },
  {
   "cell_type": "markdown",
   "metadata": {},
   "source": [
    "We will also use the model referenced in the original paper on [Data-Free Quantization Through Weight Equalization and Bias Correction](https://arxiv.org/abs/1906.04721). The MobileNetV2 model is authored by Ji Lin, [whose repository is linked here](https://github.com/tonylins/pytorch-mobilenet-v2)."
   ]
  },
  {
   "cell_type": "code",
   "execution_count": 3,
   "metadata": {},
   "outputs": [],
   "source": [
    "if not os.path.exists(\"pytorch_mobilenet_v2\"):\n",
    "    import git\n",
    "    git_path = \"https://github.com/tonylins/pytorch-mobilenet-v2.git\"\n",
    "    git.Git().clone(git_path)\n",
    "    \n",
    "    os.rename(\"pytorch-mobilenet-v2\", \"pytorch_mobilenet_v2\")\n",
    "\n",
    "import pytorch_mobilenet_v2.MobileNetV2"
   ]
  },
  {
   "cell_type": "markdown",
   "metadata": {},
   "source": [
    "## 1. Define Data Loader\n",
    "\n",
    "The data source used for this tutorial is ImageNet, which is described by image-net.org as:\n",
    "\n",
    "> ImageNet is an image database organized according to the WordNet hierarchy (currently only the nouns), in which each node of the hierarchy is depicted by hundreds and thousands of images.\n",
    "\n",
    "The original source is larger than necessary for pedagogy, so we will use a sample of 1,000 training and 1,000 validation images (one image for each class). The data used is provided by PyTorch and is linked here.\n",
    "\n",
    "> https://s3.amazonaws.com/pytorch-tutorial-assets/imagenet_1k.zip"
   ]
  },
  {
   "cell_type": "code",
   "execution_count": 4,
   "metadata": {},
   "outputs": [],
   "source": [
    "TRAIN_DATA_PATH = '/Users/jkonan/OneDrive - Intel Corporation/Data/imagenet_1k/train'\n",
    "TEST_DATA_PATH = '/Users/jkonan/OneDrive - Intel Corporation/Data/imagenet_1k/val'"
   ]
  },
  {
   "cell_type": "markdown",
   "metadata": {},
   "source": [
    "For pre-processing, the dataset class and dataloader class are both provided by Ji Lin. There are four pre-processing steps for validation:\n",
    "\n",
    "1. Resizing the image to have width 256 and height 256,\n",
    "2. Cropping the center of the image to have 224 width and 224 height,\n",
    "3. Converting the image to a pytorch tensor (required for dataloading),\n",
    "4. Normalizing the image using the mean and standard of all imagenet training.\n",
    "\n",
    "The final input size to the model is (batch_size, number of channels, height, width) = (1, 3, 224, 224)."
   ]
  },
  {
   "cell_type": "code",
   "execution_count": 5,
   "metadata": {},
   "outputs": [
    {
     "name": "stdout",
     "output_type": "stream",
     "text": [
      "Details of the training dataset and data loader are below.\n",
      "\n",
      "Num Observations: 1000\n",
      "Num Batches:\t  1000\n",
      "Batch Shape:\t  [1, 3, 224, 224]\n",
      "Num Classes:\t  1000\n",
      "\n",
      "\n",
      "Details of the validation dataset and data loader are below.\n",
      "\n",
      "Num Observations: 1000\n",
      "Num Batches:\t  1000\n",
      "Batch Shape:\t  [1, 3, 224, 224]\n",
      "Num Classes:\t  1000\n"
     ]
    }
   ],
   "source": [
    "batch_size, in_channels, input_size = 1, 3, 224\n",
    "n_worker = 8\n",
    "\n",
    "imagenet_transforms = torchvision.transforms.Compose([\n",
    "    torchvision.transforms.Resize(int(input_size/0.875)),\n",
    "    torchvision.transforms.CenterCrop(input_size),\n",
    "    torchvision.transforms.ToTensor(),\n",
    "    torchvision.transforms.Normalize(mean=[0.485, 0.456, 0.406],\n",
    "                                     std =[0.229, 0.224, 0.225])\n",
    "])\n",
    "\n",
    "train_dataset = torchvision.datasets.ImageFolder(\n",
    "    TRAIN_DATA_PATH, \n",
    "    imagenet_transforms\n",
    ")\n",
    "\n",
    "train_loader = torch.utils.data.DataLoader(\n",
    "    dataset=train_dataset,\n",
    "    batch_size=batch_size, \n",
    "    num_workers=n_worker\n",
    ")\n",
    "\n",
    "val_dataset = torchvision.datasets.ImageFolder(\n",
    "    TEST_DATA_PATH, \n",
    "    imagenet_transforms\n",
    ")\n",
    "\n",
    "val_loader = torch.utils.data.DataLoader(\n",
    "    dataset=val_dataset,\n",
    "    batch_size=batch_size, \n",
    "    num_workers=n_worker\n",
    ")\n",
    "\n",
    "example_train_input = next(iter(train_loader))[0]\n",
    "example_val_input = next(iter(val_loader))[0]\n",
    "\n",
    "print(\"Details of the training dataset and data loader are below.\\n\")\n",
    "print(\"Num Observations: {}\\nNum Batches:\\t  {}\\nBatch Shape:\\t  {}\\nNum Classes:\\t  {}\".\\\n",
    "      format(len(train_dataset), len(train_loader), list(example_train_input.shape), len(train_dataset.classes)))\n",
    "\n",
    "print(\"\\n\\nDetails of the validation dataset and data loader are below.\\n\")\n",
    "print(\"Num Observations: {}\\nNum Batches:\\t  {}\\nBatch Shape:\\t  {}\\nNum Classes:\\t  {}\".\\\n",
    "      format(len(val_dataset), len(val_loader), list(example_val_input.shape), len(val_dataset.classes)))"
   ]
  },
  {
   "cell_type": "markdown",
   "metadata": {},
   "source": [
    "For QLinearOps, we will need a custom data reader class with a `get_next` attribute function. This is a modification to the PyTorch dataloader, which returns batches as a tuple of tensors versus the data reader returning batches as a dictionary with clearly labeled input name."
   ]
  },
  {
   "cell_type": "code",
   "execution_count": 6,
   "metadata": {},
   "outputs": [],
   "source": [
    "class data_reader:\n",
    "    def __init__(self, loader, input_name=\"input\"):\n",
    "        self.reader = iter([{input_name:data[0].numpy()} for data in loader])\n",
    "    \n",
    "    def get_next(self):\n",
    "        return next(self.reader, None)"
   ]
  },
  {
   "cell_type": "markdown",
   "metadata": {},
   "source": [
    "---"
   ]
  },
  {
   "cell_type": "markdown",
   "metadata": {},
   "source": [
    "## 2. Export Model to ONNX"
   ]
  },
  {
   "cell_type": "markdown",
   "metadata": {},
   "source": [
    "There are six model versions of interest, each specified by a path. This includes...\n",
    "\n",
    "- `ONNX_MODEL_PATH`, the original baseline float32 model;\n",
    "- `QI_ONNX_MODEL_PATH`, the dynamic quantized QIntegerOps uint8 baseline model;\n",
    "- `QL_ONNX_MODEL_PATH`, the static quantized QLinearOps uint baseline model;\n",
    "- `E_ONNX_MODEL_PATH`, the float32 equalized model;\n",
    "- `QI_E_ONNX_MODEL_PATH`, the dynamic quantized QIntegerOps uint8 baseline model;\n",
    "- `QL_E_ONNX_MODEL_PATH`, the static quantized QLinearOps uint baseline model."
   ]
  },
  {
   "cell_type": "code",
   "execution_count": 7,
   "metadata": {},
   "outputs": [
    {
     "name": "stdout",
     "output_type": "stream",
     "text": [
      "Equalized\tIntegerOps\tLinearOps\tPath\n",
      "    False\t     False\t    False\tmodels/mobilenet_v2.onnx\n",
      "    False\t      True\t    False\tmodels/QI-mobilenet_v2.onnx\n",
      "    False\t     False\t     True\tmodels/QL-mobilenet_v2.onnx\n",
      "     True\t     False\t    False\tmodels/E-mobilenet_v2.onnx\n",
      "     True\t      True\t    False\tmodels/QI-E-mobilenet_v2.onnx\n",
      "     True\t     False\t     True\tmodels/QL-E-mobilenet_v2.onnx\n"
     ]
    }
   ],
   "source": [
    "MODEL_PATH = \"models\"\n",
    "MODEL_NAME = \"mobilenet_v2\"\n",
    "\n",
    "ONNX_MODEL_PATH = MODEL_PATH + \"/\" + MODEL_NAME + \".onnx\"\n",
    "QI_ONNX_MODEL_PATH = MODEL_PATH + \"/\" + \"QI-\" + MODEL_NAME + \".onnx\"\n",
    "QL_ONNX_MODEL_PATH = MODEL_PATH + \"/\" + \"QL-\" + MODEL_NAME + \".onnx\"\n",
    "\n",
    "E_ONNX_MODEL_PATH = MODEL_PATH + \"/\" + \"E-\" + MODEL_NAME + \".onnx\"\n",
    "QI_E_ONNX_MODEL_PATH = MODEL_PATH + \"/\" + \"QI-E-\" + MODEL_NAME + \".onnx\"\n",
    "QL_E_ONNX_MODEL_PATH = MODEL_PATH + \"/\" + \"QL-E-\" + MODEL_NAME + \".onnx\"\n",
    "\n",
    "if not os.path.exists(MODEL_PATH):\n",
    "    os.makedirs(MODEL_PATH)\n",
    "    \n",
    "print(\"Equalized\\tIntegerOps\\tLinearOps\\tPath\")\n",
    "print(\"    False\\t     False\\t    False\\t\", ONNX_MODEL_PATH, sep=\"\")\n",
    "print(\"    False\\t      True\\t    False\\t\", QI_ONNX_MODEL_PATH, sep=\"\")\n",
    "print(\"    False\\t     False\\t     True\\t\", QL_ONNX_MODEL_PATH, sep=\"\")\n",
    "print(\"     True\\t     False\\t    False\\t\", E_ONNX_MODEL_PATH, sep=\"\")\n",
    "print(\"     True\\t      True\\t    False\\t\", QI_E_ONNX_MODEL_PATH, sep=\"\")\n",
    "print(\"     True\\t     False\\t     True\\t\", QL_E_ONNX_MODEL_PATH, sep=\"\")"
   ]
  },
  {
   "cell_type": "markdown",
   "metadata": {},
   "source": [
    "#### Converting ReLU6 to ReLU\n",
    "\n",
    "ReLU6 is not currently supported for onnxruntime quantization, so we convert ReLU6 to ReLU. This change in topology has been shown to have low affect on accuracy. Augmenting the model is also possible after the model is in onnx but requires custom scripts.\n",
    "\n",
    "It is also worth noting the exported model opset, which is opset 12. The most recent opset is opset 12, and it is above the minimum supported opset version 11 that is required for quantization."
   ]
  },
  {
   "cell_type": "code",
   "execution_count": 8,
   "metadata": {},
   "outputs": [],
   "source": [
    "def convert_relu6_to_relu(model):\n",
    "    for child_name, child in model.named_children():\n",
    "        if isinstance(child, torch.nn.ReLU6):\n",
    "            setattr(model, child_name, torch.nn.ReLU(inplace=True))\n",
    "        else:\n",
    "            convert_relu6_to_relu(child)\n",
    "\n",
    "mobilenet_v2 = pytorch_mobilenet_v2.MobileNetV2.mobilenet_v2()\n",
    "convert_relu6_to_relu(mobilenet_v2)\n",
    "dummy_input = torch.ones(example_val_input.shape)\n",
    "\n",
    "torch.onnx.export(mobilenet_v2,\n",
    "                  dummy_input,\n",
    "                  ONNX_MODEL_PATH,\n",
    "                  input_names = ['input'],\n",
    "                  output_names = ['output'],\n",
    "                  opset_version=12)\n",
    "\n",
    "onnx_model = onnx.load(ONNX_MODEL_PATH)\n",
    "onnx.checker.check_model(onnx_model)"
   ]
  },
  {
   "cell_type": "markdown",
   "metadata": {},
   "source": [
    "---"
   ]
  },
  {
   "cell_type": "markdown",
   "metadata": {},
   "source": [
    "## 3. Equalize Model "
   ]
  },
  {
   "cell_type": "markdown",
   "metadata": {},
   "source": [
    "Cross layer equalization is applied using the equalize function we developed for onnx. The paper motivating this code is titled [Data-Free Quantization Through Weight Equalization and Bias Correction](https://arxiv.org/pdf/1906.04721.pdf). Internally, the equalization algorithm performs a few steps, which include:\n",
    "1. Model Augmentation - Converting ReLU6 to ReLU, merging batch normalization, and removing unused nodes.\n",
    "2. Defining Iterable Set - Chosing which pairs of nodes to equalize between (in order).\n",
    "3. Executing Iterations - Applying layer equalization to each pair of the iterable set and updating both weights and biases.\n",
    "\n",
    "Because network topologies vary based on their origin, it is recommended that users of this function use onnx opset 12. Further, modifications may be necessary for either converting to ReLU, merge batch normalization, or any other augmentation necessary to simplify the model into only conv, batchnorm, and add ops.\n",
    "\n",
    "These three steps and their doc strings can be found in equalization.py."
   ]
  },
  {
   "cell_type": "code",
   "execution_count": 9,
   "metadata": {},
   "outputs": [],
   "source": [
    "import equalization\n",
    "\n",
    "equalized_onnx_model = equalization.equalize(ONNX_MODEL_PATH)\n",
    "\n",
    "onnx.save(equalized_onnx_model,\n",
    "          E_ONNX_MODEL_PATH)"
   ]
  },
  {
   "cell_type": "markdown",
   "metadata": {},
   "source": [
    "---"
   ]
  },
  {
   "cell_type": "markdown",
   "metadata": {},
   "source": [
    "## 4. Quantize Model"
   ]
  },
  {
   "cell_type": "markdown",
   "metadata": {},
   "source": [
    "Quantization is done in ONNX Runtime using its [onnx quantization tool](https://github.com/microsoft/onnxruntime/tree/master/onnxruntime/python/tools/quantization). The doc strings of the arguments needed for quantization are worth quoting here at length. Verbatim, quantization requires the following:\n",
    "- param `model_input`: file path of model to quantize\n",
    "- param `model_output`: file path of quantized model\n",
    "- param `calibration_data_reader`: a calibration data reader. It enumerates calibration data and generates inputs for the original model.\n",
    "- param `op_types_to_quantize`: specify the types of operators to quantize, like ['Conv'] to quantize Conv only. It quantizes all supported operators by default.\n",
    "- param `op_types`: operators to quantize\n",
    "- param `per_channel`: quantize weights per channel\n",
    "- param `reduce_range`: quantize weights with 7-bits. It may improve the accuracy for some models running on non-VNNI machine, especially for per-channel mode\n",
    "- param `activation_type`: quantization data type of activation\n",
    "- param `weight_type`: quantization data type of weight\n",
    "- param `nodes_to_quantize`: List of nodes names to quantize. When this list is not None only the nodes in this list are quantized. example:\n",
    "        ```\n",
    "        [\n",
    "            'Conv__224',\n",
    "            'Conv__252'\n",
    "        ]\n",
    "        ```\n",
    "-  param `nodes_to_exclude`: List of nodes names to exclude. The nodes in this list will be excluded from quantization\n",
    "        when it is not None.\n",
    "-  parma `use_external_data_format`: option used for large size (>2GB) model. Set to False by default. "
   ]
  },
  {
   "cell_type": "markdown",
   "metadata": {},
   "source": [
    "### 4a. Quantize Model (IntegerOps)"
   ]
  },
  {
   "cell_type": "markdown",
   "metadata": {},
   "source": [
    "Models quantized using IntegerOps have their quantization parameters calculated dynamically and result in an int8 onnx model. Models derived under dynamic regimes do not need any additional data to compute. For this reason, these models are considered \"data-free\" quantized models. \n",
    "\n",
    "The relevant code for quantizing the baseline model using IntegerOps is as follows:"
   ]
  },
  {
   "cell_type": "code",
   "execution_count": 10,
   "metadata": {},
   "outputs": [],
   "source": [
    "kwargs = {\"op_types_to_quantize\":     [],\n",
    "          \"per_channel\":              False,\n",
    "          \"reduce_range\":             False,\n",
    "          \"activation_type\":          onnxruntime.quantization.QuantType.QUInt8,\n",
    "          \"weight_type\":              onnxruntime.quantization.QuantType.QUInt8,\n",
    "          \"nodes_to_quantize\":        [],\n",
    "          \"nodes_to_exclude\":         [],\n",
    "          \"use_external_data_format\": False}\n",
    "\n",
    "onnxruntime.quantization.quantize_dynamic(ONNX_MODEL_PATH, \n",
    "                                          QI_ONNX_MODEL_PATH, \n",
    "                                          **kwargs)"
   ]
  },
  {
   "cell_type": "markdown",
   "metadata": {},
   "source": [
    "#### IntegerOps Model Size Reduction\n",
    "\n",
    "We see that the baseline quantized using IntegerOps results in an approximate 50% reduction in model size. This is to be expected, and similar model sizes will be observed in subsequent experiments."
   ]
  },
  {
   "cell_type": "code",
   "execution_count": 11,
   "metadata": {},
   "outputs": [
    {
     "name": "stdout",
     "output_type": "stream",
     "text": [
      "\n",
      "ONNX model size (MB):     14.19\n",
      "\n",
      "QI-ONNX model size (MB):  7.65\n"
     ]
    }
   ],
   "source": [
    "onnx_size_mb   = os.path.getsize(ONNX_MODEL_PATH)/1e6\n",
    "qi_onnx_size_mb = os.path.getsize(QI_ONNX_MODEL_PATH)/1e6\n",
    "\n",
    "print(\"\\nONNX model size (MB):     {:.2f}\".format(onnx_size_mb))\n",
    "print(\"\\nQI-ONNX model size (MB):  {:.2f}\".format(qi_onnx_size_mb))"
   ]
  },
  {
   "cell_type": "markdown",
   "metadata": {},
   "source": [
    "### 4b. Equalized and Quantized Model (IntegerOps)"
   ]
  },
  {
   "cell_type": "markdown",
   "metadata": {},
   "source": [
    "Models first equalized follow the same quantize procedure as non-equalized models. In the case of IntegerOps, we take an equalized model then dynamically quantize it to create an int8 model. This procedure is still \"data-free\" because neither equalization nor dynamic quantization requires additional data.\n",
    "\n",
    "The relevant code for quantizing the equalized model using IntegerOps is as follows:"
   ]
  },
  {
   "cell_type": "code",
   "execution_count": 12,
   "metadata": {},
   "outputs": [],
   "source": [
    "kwargs = {\"op_types_to_quantize\":     [],\n",
    "          \"per_channel\":              False,\n",
    "          \"reduce_range\":             False,\n",
    "          \"activation_type\":          onnxruntime.quantization.QuantType.QUInt8,\n",
    "          \"weight_type\":              onnxruntime.quantization.QuantType.QUInt8,\n",
    "          \"nodes_to_quantize\":        [],\n",
    "          \"nodes_to_exclude\":         [],\n",
    "          \"use_external_data_format\": False}\n",
    "\n",
    "onnxruntime.quantization.quantize_dynamic(E_ONNX_MODEL_PATH, \n",
    "                                          QI_E_ONNX_MODEL_PATH, \n",
    "                                          **kwargs)"
   ]
  },
  {
   "cell_type": "code",
   "execution_count": 13,
   "metadata": {},
   "outputs": [
    {
     "name": "stdout",
     "output_type": "stream",
     "text": [
      "\n",
      "E-ONNX model size (MB):     14.19\n",
      "\n",
      "QI-E-ONNX model size (MB):  7.75\n"
     ]
    }
   ],
   "source": [
    "e_onnx_size_mb   = os.path.getsize(E_ONNX_MODEL_PATH)/1e6\n",
    "qi_e_onnx_size_mb = os.path.getsize(QI_E_ONNX_MODEL_PATH)/1e6\n",
    "\n",
    "print(\"\\nE-ONNX model size (MB):     {:.2f}\".format(onnx_size_mb))\n",
    "print(\"\\nQI-E-ONNX model size (MB):  {:.2f}\".format(qi_e_onnx_size_mb))"
   ]
  },
  {
   "cell_type": "markdown",
   "metadata": {},
   "source": [
    "### 4c. Quantize Model (QLinearOps)"
   ]
  },
  {
   "cell_type": "markdown",
   "metadata": {},
   "source": [
    "Models quantized using QLinearOps have their quantization parameters calibrated for static use and result in an int8 onnx model. Models derived under static regimes require additional data to compute. QLinearOps is preferred for decreased model latency if the time and data for calibration is available.\n",
    "\n",
    "The relevant code for quantizing the baseline model using QLinearOps is as follows:"
   ]
  },
  {
   "cell_type": "code",
   "execution_count": 14,
   "metadata": {},
   "outputs": [
    {
     "name": "stdout",
     "output_type": "stream",
     "text": [
      "Calibrated,quantized parameters calculated and returned.\n"
     ]
    }
   ],
   "source": [
    "train_data_reader = data_reader(train_loader)\n",
    "\n",
    "kwargs = {\"op_types_to_quantize\":     [],\n",
    "          \"per_channel\":              False,\n",
    "          \"reduce_range\":             False,\n",
    "          \"activation_type\":          onnxruntime.quantization.QuantType.QUInt8,\n",
    "          \"weight_type\":              onnxruntime.quantization.QuantType.QUInt8,\n",
    "          \"nodes_to_quantize\":        [],\n",
    "          \"nodes_to_exclude\":         [],\n",
    "          \"use_external_data_format\": False}\n",
    "\n",
    "onnxruntime.quantization.quantize_static(ONNX_MODEL_PATH, \n",
    "                                         QL_ONNX_MODEL_PATH, \n",
    "                                         train_data_reader,\n",
    "                                         **kwargs)\n",
    "\n",
    "if os.path.exists(\"./augmented_model.onnx\"):\n",
    "    os.remove(\"./augmented_model.onnx\")"
   ]
  },
  {
   "cell_type": "markdown",
   "metadata": {},
   "source": [
    "#### QLinearOps Model Size Reduction\n",
    "\n",
    "As expected, we see that the baseline quantized using QLinearOps results in an approximate 50% reduction in model size."
   ]
  },
  {
   "cell_type": "code",
   "execution_count": 15,
   "metadata": {},
   "outputs": [
    {
     "name": "stdout",
     "output_type": "stream",
     "text": [
      "\n",
      "ONNX model size (MB):     14.19\n",
      "\n",
      "QL-ONNX model size (MB):  7.65\n"
     ]
    }
   ],
   "source": [
    "onnx_size_mb   = os.path.getsize(ONNX_MODEL_PATH)/1e6\n",
    "ql_onnx_size_mb = os.path.getsize(QL_ONNX_MODEL_PATH)/1e6\n",
    "\n",
    "print(\"\\nONNX model size (MB):     {:.2f}\".format(onnx_size_mb))\n",
    "print(\"\\nQL-ONNX model size (MB):  {:.2f}\".format(ql_onnx_size_mb))"
   ]
  },
  {
   "cell_type": "markdown",
   "metadata": {},
   "source": [
    "### 4d. Equalized and Quantized Model (QLinearOps)"
   ]
  },
  {
   "cell_type": "markdown",
   "metadata": {},
   "source": [
    "Similarly, models equalized then quantized using QLinearOps follow the same procedure as non-equalized models. Though equalization is \"data-free\", when used in conjunction with QLinearOps the procedure is no longer \"data-free.\" If you are considering QLinearOps, equalization is recommended because the affected model will likely see less of an accuracy drop.\n",
    "\n",
    "The relevant code for quantizing the equalized model using QLinearOps is as follows:"
   ]
  },
  {
   "cell_type": "code",
   "execution_count": 16,
   "metadata": {},
   "outputs": [
    {
     "name": "stdout",
     "output_type": "stream",
     "text": [
      "Calibrated,quantized parameters calculated and returned.\n"
     ]
    }
   ],
   "source": [
    "train_data_reader = data_reader(train_loader)\n",
    "\n",
    "kwargs = {\"op_types_to_quantize\":     [],\n",
    "          \"per_channel\":              False,\n",
    "          \"reduce_range\":             False,\n",
    "          \"activation_type\":          onnxruntime.quantization.QuantType.QUInt8,\n",
    "          \"weight_type\":              onnxruntime.quantization.QuantType.QUInt8,\n",
    "          \"nodes_to_quantize\":        [],\n",
    "          \"nodes_to_exclude\":         [],\n",
    "          \"use_external_data_format\": False}\n",
    "\n",
    "onnxruntime.quantization.quantize_static(E_ONNX_MODEL_PATH, \n",
    "                                         QL_E_ONNX_MODEL_PATH, \n",
    "                                         train_data_reader,\n",
    "                                         **kwargs)\n",
    "\n",
    "if os.path.exists(\"./augmented_model.onnx\"):\n",
    "    os.remove(\"./augmented_model.onnx\")"
   ]
  },
  {
   "cell_type": "markdown",
   "metadata": {},
   "source": [
    "#### QLinearOps Model Size Reduction\n",
    "\n",
    "As expected, we see that the baseline quantized using QLinearOps results in an approximate 50% reduction in model size."
   ]
  },
  {
   "cell_type": "code",
   "execution_count": 17,
   "metadata": {},
   "outputs": [
    {
     "name": "stdout",
     "output_type": "stream",
     "text": [
      "\n",
      "E-ONNX model size (MB):     14.26\n",
      "\n",
      "QI-E-ONNX model size (MB):  7.72\n"
     ]
    }
   ],
   "source": [
    "e_onnx_size_mb   = os.path.getsize(E_ONNX_MODEL_PATH)/1e6\n",
    "ql_e_onnx_size_mb = os.path.getsize(QL_E_ONNX_MODEL_PATH)/1e6\n",
    "\n",
    "print(\"\\nE-ONNX model size (MB):     {:.2f}\".format(e_onnx_size_mb))\n",
    "print(\"\\nQI-E-ONNX model size (MB):  {:.2f}\".format(ql_e_onnx_size_mb))"
   ]
  },
  {
   "cell_type": "markdown",
   "metadata": {},
   "source": [
    "## 5. Validation Inference"
   ]
  },
  {
   "cell_type": "markdown",
   "metadata": {},
   "source": [
    "For inference, we define a few helper functions. They include methods for setting up an ONNX Runtime inference session, calculating loss, calculating latency, and reporting results. Validation performs inference on the validation set, and, at the end of the loop, its predictions are used for metric calculation."
   ]
  },
  {
   "cell_type": "code",
   "execution_count": 18,
   "metadata": {},
   "outputs": [],
   "source": [
    "class init_inference:\n",
    "    def __init__(self, session):\n",
    "        self.session = session\n",
    "        \n",
    "    def __call__(self, image):\n",
    "        input_data = image.numpy()\n",
    "        input_name  = self.session.get_inputs()[0].name\n",
    "    \n",
    "        return self.session.run(None, {input_name: input_data})\n",
    "\n",
    "def Xent(logits, labels):\n",
    "    logits = torch.tensor(logits[0])\n",
    "    loss_fn = torch.nn.CrossEntropyLoss()\n",
    "    \n",
    "    return float(loss_fn(logits, labels))\n",
    "\n",
    "def mean_latency_fn(tqdm_dataloader):\n",
    "    start = tqdm_dataloader.start_t\n",
    "    stop = tqdm_dataloader.last_print_t\n",
    "    n = tqdm_dataloader.n\n",
    "    \n",
    "    mean_latency = (stop - start)/n\n",
    "    \n",
    "    return mean_latency\n",
    "\n",
    "def simple_table(data_multilist, x_label_list, y_label_list):\n",
    "    for i in range(len(y_label_list)+1):\n",
    "        if i == 0:\n",
    "            row = [\"\\t\"]\n",
    "            row.extend(x_label_list)\n",
    "            string = \"\\t\".join(row)\n",
    "        else:\n",
    "            row = [y_label_list[i-1]]\n",
    "            \n",
    "            row.extend([format(x, \".6f\") for x in data_multilist[i-1]])\n",
    "            string = \"\\t\".join(row)\n",
    "            \n",
    "        print(string)\n",
    "        \n",
    "    return None\n",
    "\n",
    "def plot_statistic(x, y, title, x_label, y_label):\n",
    "\n",
    "    label_pos = [i for i, _ in enumerate(x)]\n",
    "\n",
    "    plt.figure(figsize=(12, 6))\n",
    "    plt.bar(label_pos, x, color='black', width=0.8)\n",
    "    plt.xlabel(x_label)\n",
    "    plt.ylabel(y_label)\n",
    "    plt.title(title)\n",
    "    plt.xticks(label_pos, y)\n",
    "    \n",
    "    plt.show()\n",
    "    \n",
    "    return None\n",
    "\n",
    "def validate(dataloader, session):\n",
    "    tqdm_dataloader = tqdm(dataloader)\n",
    "    inference = init_inference(session)\n",
    "    loss_labels, pred_labels, true_labels = [], [], []\n",
    "\n",
    "    for idx, (images, target) in enumerate(tqdm_dataloader):\n",
    "        \n",
    "        logits = inference(images)\n",
    "        labels = np.argmax(logits[0][0])\n",
    "        loss   = Xent(logits, target)\n",
    "\n",
    "        pred_labels.append(labels)\n",
    "        true_labels.append(int(target))\n",
    "        loss_labels.append(loss + 1e-6)\n",
    "        \n",
    "    mean_latency = mean_latency_fn(tqdm_dataloader)\n",
    "\n",
    "    return loss_labels, pred_labels, true_labels, mean_latency"
   ]
  },
  {
   "cell_type": "markdown",
   "metadata": {},
   "source": [
    "### 5a. Validate Baseline Model"
   ]
  },
  {
   "cell_type": "code",
   "execution_count": 19,
   "metadata": {},
   "outputs": [
    {
     "name": "stderr",
     "output_type": "stream",
     "text": [
      "100%|██████████| 1000/1000 [00:40<00:00, 24.62it/s]\n"
     ]
    }
   ],
   "source": [
    "ort_session = onnxruntime.InferenceSession(ONNX_MODEL_PATH)\n",
    "\n",
    "loss_labels, pred_labels, true_labels, mean_latency =\\\n",
    "    validate(val_loader, ort_session)"
   ]
  },
  {
   "cell_type": "markdown",
   "metadata": {},
   "source": [
    "### 5b. Validate Equalized Model"
   ]
  },
  {
   "cell_type": "code",
   "execution_count": 20,
   "metadata": {},
   "outputs": [
    {
     "name": "stderr",
     "output_type": "stream",
     "text": [
      "100%|██████████| 1000/1000 [00:39<00:00, 25.34it/s]\n"
     ]
    }
   ],
   "source": [
    "e_ort_session = onnxruntime.InferenceSession(E_ONNX_MODEL_PATH)\n",
    "\n",
    "e_loss_labels, e_pred_labels, e_true_labels, e_mean_latency =\\\n",
    "    validate(val_loader, e_ort_session)"
   ]
  },
  {
   "cell_type": "markdown",
   "metadata": {},
   "source": [
    "### 5c. Validate Baseline IntegerOps Model"
   ]
  },
  {
   "cell_type": "code",
   "execution_count": 21,
   "metadata": {},
   "outputs": [
    {
     "name": "stderr",
     "output_type": "stream",
     "text": [
      "100%|██████████| 1000/1000 [02:10<00:00,  7.63it/s]\n"
     ]
    }
   ],
   "source": [
    "qi_ort_session = onnxruntime.InferenceSession(QI_ONNX_MODEL_PATH)\n",
    "\n",
    "qi_loss_labels, qi_pred_labels, qi_true_labels, qi_mean_latency =\\\n",
    "    validate(val_loader, qi_ort_session)"
   ]
  },
  {
   "cell_type": "markdown",
   "metadata": {},
   "source": [
    "### 5d. Validate Equalized IntegerOps Model"
   ]
  },
  {
   "cell_type": "code",
   "execution_count": 22,
   "metadata": {},
   "outputs": [
    {
     "name": "stderr",
     "output_type": "stream",
     "text": [
      "100%|██████████| 1000/1000 [02:17<00:00,  7.28it/s]\n"
     ]
    }
   ],
   "source": [
    "qi_e_ort_session = onnxruntime.InferenceSession(QI_E_ONNX_MODEL_PATH)\n",
    "\n",
    "qi_e_loss_labels, qi_e_pred_labels, qi_e_true_labels, qi_e_mean_latency =\\\n",
    "    validate(val_loader, qi_e_ort_session)"
   ]
  },
  {
   "cell_type": "markdown",
   "metadata": {},
   "source": [
    "### 5e. Validate Baseline QLinearOps Model"
   ]
  },
  {
   "cell_type": "code",
   "execution_count": 23,
   "metadata": {},
   "outputs": [
    {
     "name": "stderr",
     "output_type": "stream",
     "text": [
      "100%|██████████| 1000/1000 [02:03<00:00,  8.07it/s]\n"
     ]
    }
   ],
   "source": [
    "ql_ort_session = onnxruntime.InferenceSession(QL_ONNX_MODEL_PATH)\n",
    "\n",
    "ql_loss_labels, ql_pred_labels, ql_true_labels, ql_mean_latency =\\\n",
    "    validate(val_loader, ql_ort_session)"
   ]
  },
  {
   "cell_type": "markdown",
   "metadata": {},
   "source": [
    "### 5f. Validate Equalized QLinearOps Model"
   ]
  },
  {
   "cell_type": "code",
   "execution_count": 24,
   "metadata": {},
   "outputs": [
    {
     "name": "stderr",
     "output_type": "stream",
     "text": [
      "100%|██████████| 1000/1000 [02:04<00:00,  8.04it/s]\n"
     ]
    }
   ],
   "source": [
    "ql_e_ort_session = onnxruntime.InferenceSession(QL_E_ONNX_MODEL_PATH)\n",
    "\n",
    "ql_e_loss_labels, ql_e_pred_labels, ql_e_true_labels, ql_e_mean_latency =\\\n",
    "    validate(val_loader, ql_e_ort_session)"
   ]
  },
  {
   "cell_type": "markdown",
   "metadata": {},
   "source": [
    "## 6. Final Results"
   ]
  },
  {
   "cell_type": "markdown",
   "metadata": {},
   "source": [
    "The final results include four metrics: latency, loss, accuracy, and model size. \n",
    "- **Latency** gives us an idea of how long on average it takes to do inference on an image. \n",
    "- **Loss** tells us precicely how much our model's predicted logits differ from the expected class. \n",
    "- **Accuracy** tells us how often the most likely predicted class is consistent with the expected class. \n",
    "- **Model size** gives us an idea of the memory bandwidth required to perform inference."
   ]
  },
  {
   "cell_type": "markdown",
   "metadata": {},
   "source": [
    "### 6a. Model Inference Latency"
   ]
  },
  {
   "cell_type": "markdown",
   "metadata": {},
   "source": [
    "Though quantization has theoretical performance improvements, we see that some systems (such as the one this experiment is ran on) cannot always benifit from these gains. In particular, AVX-512 VNNI instructions enable lower latencies, which this system cannot benifit from. However, it is still worth noting how QLinearOps is relatively faster to IntegerOps, though quantization is not recommended on a system such as this."
   ]
  },
  {
   "cell_type": "code",
   "execution_count": 25,
   "metadata": {
    "scrolled": true
   },
   "outputs": [],
   "source": [
    "# print('Validation latency results are below.\\n')\n",
    "\n",
    "# simple_table(\n",
    "#     data_multilist = [[mean_latency,      e_mean_latency   ],\n",
    "#                       [qi_mean_latency,   qi_e_mean_latency],\n",
    "#                       [ql_e_mean_latency, ql_e_mean_latency]], \n",
    "#     x_label_list = [\"Baseline\", \"Equalized\"], \n",
    "#     y_label_list = [\"float32 \", \"IntegerOps\", \"QLinearOps\"]\n",
    "# )"
   ]
  },
  {
   "cell_type": "code",
   "execution_count": 26,
   "metadata": {},
   "outputs": [],
   "source": [
    "# x = [mean_latency, e_mean_latency, qi_mean_latency, qi_e_mean_latency, ql_mean_latency, ql_e_mean_latency]\n",
    "# y = ['Baseline-fp32', 'Equalized-fp32', 'Baseline-IOps', 'Equalized-IOps', 'Baseline-LOps', 'Equalized-LOps']\n",
    "# title = \"MobileNetV2 Latency Results\"\n",
    "# x_label = \"Model Type\"\n",
    "# y_label = \"Mean Latency (sec)\"\n",
    "\n",
    "# plot_statistic(x, y, title, x_label, y_label)"
   ]
  },
  {
   "cell_type": "markdown",
   "metadata": {},
   "source": [
    "### 6b. Model Inference Cross Entropy Loss"
   ]
  },
  {
   "cell_type": "markdown",
   "metadata": {},
   "source": [
    "Below, it is apparent that quantized models adversely affect logit calculation and result in a higher loss. Though QLinearOps is faster than Integer Ops (as seen above), this higher speed is accompanied with less precise logits. Engineers are encouraged to weigh the tradeoffs between these two models, and to also consider the later reported accuracy results."
   ]
  },
  {
   "cell_type": "code",
   "execution_count": 27,
   "metadata": {},
   "outputs": [
    {
     "name": "stdout",
     "output_type": "stream",
     "text": [
      "Validation loss results are below.\n",
      "\n",
      "\t\tBaseline\tEqualized\n",
      "float32 \t1.112608\t1.112607\n",
      "IntegerOps\t2.430798\t1.886650\n",
      "QLinearOps\t3.679957\t2.367664\n"
     ]
    }
   ],
   "source": [
    "mean_loss      = np.mean(loss_labels)\n",
    "e_mean_loss    = np.mean(e_loss_labels)\n",
    "qi_mean_loss   = np.mean(qi_loss_labels)\n",
    "qi_e_mean_loss = np.mean(qi_e_loss_labels)\n",
    "ql_mean_loss   = np.mean(ql_loss_labels)\n",
    "ql_e_mean_loss = np.mean(ql_e_loss_labels)\n",
    "\n",
    "print('Validation loss results are below.\\n')\n",
    "\n",
    "simple_table(\n",
    "    data_multilist = [[mean_loss,    e_mean_loss   ],\n",
    "                      [qi_mean_loss, qi_e_mean_loss],\n",
    "                      [ql_mean_loss, ql_e_mean_loss]],\n",
    "    x_label_list = [\"Baseline\", \"Equalized\"],\n",
    "    y_label_list = [\"float32 \", \"IntegerOps\", \"QLinearOps\"]\n",
    ")"
   ]
  },
  {
   "cell_type": "code",
   "execution_count": 28,
   "metadata": {},
   "outputs": [
    {
     "data": {
      "image/png": "[encoded data removed]",
      "text/plain": [
       "<Figure size 864x432 with 1 Axes>"
      ]
     },
     "metadata": {},
     "output_type": "display_data"
    }
   ],
   "source": [
    "x = [mean_loss, e_mean_loss, qi_mean_loss, qi_e_mean_loss, ql_mean_loss, ql_e_mean_loss]\n",
    "y = ['Baseline-fp32', 'Equalized-fp32', 'Baseline-IOps', 'Equalized-IOps', 'Baseline-LOps', 'Equalized-LOps']\n",
    "title = \"MobileNetV2 Loss Results\"\n",
    "x_label = \"Model Type\"\n",
    "y_label = \"Mean Cross Entropy Loss\"\n",
    "    \n",
    "plot_statistic(x, y, title, x_label, y_label)"
   ]
  },
  {
   "cell_type": "markdown",
   "metadata": {},
   "source": [
    "### 6c. Model Inference Accuracy"
   ]
  },
  {
   "cell_type": "markdown",
   "metadata": {},
   "source": [
    "Below, we see that, without equalization, IntegerOps takes a significant model hit of over 20% and QLinearOps takes an even greater hit of over 40%. Equalization ameliorates the accuracy degradation caused by quantization, with IntegerOps and QLinearOps seeing less than 5% and 10% accuracy drop, respectively."
   ]
  },
  {
   "cell_type": "code",
   "execution_count": 29,
   "metadata": {},
   "outputs": [
    {
     "name": "stdout",
     "output_type": "stream",
     "text": [
      "Validation accuracy results are below.\n",
      "\n",
      "\t\tBaseline\tEqualized\n",
      "float32 \t0.726000\t0.726000\n",
      "IntegerOps\t0.480000\t0.578000\n",
      "QLinearOps\t0.303000\t0.498000\n"
     ]
    }
   ],
   "source": [
    "accuracy_score      = sklearn.metrics.accuracy_score(true_labels, pred_labels)\n",
    "e_accuracy_score    = sklearn.metrics.accuracy_score(e_true_labels, e_pred_labels)\n",
    "qi_accuracy_score   = sklearn.metrics.accuracy_score(qi_true_labels, qi_pred_labels)\n",
    "qi_e_accuracy_score = sklearn.metrics.accuracy_score(qi_e_true_labels, qi_e_pred_labels)\n",
    "ql_accuracy_score   = sklearn.metrics.accuracy_score(ql_true_labels, ql_pred_labels)\n",
    "ql_e_accuracy_score = sklearn.metrics.accuracy_score(ql_e_true_labels, ql_e_pred_labels)\n",
    "\n",
    "print('Validation accuracy results are below.\\n')\n",
    "\n",
    "simple_table(\n",
    "    data_multilist = [[accuracy_score,    e_accuracy_score   ] ,\n",
    "                      [qi_accuracy_score, qi_e_accuracy_score] ,\n",
    "                      [ql_accuracy_score, ql_e_accuracy_score]],\n",
    "    x_label_list = [\"Baseline\", \"Equalized\"],\n",
    "    y_label_list = [\"float32 \", \"IntegerOps\", \"QLinearOps\"]\n",
    ")"
   ]
  },
  {
   "cell_type": "code",
   "execution_count": 30,
   "metadata": {},
   "outputs": [
    {
     "data": {
      "image/png": "[encoded data removed]",
      "text/plain": [
       "<Figure size 864x432 with 1 Axes>"
      ]
     },
     "metadata": {},
     "output_type": "display_data"
    }
   ],
   "source": [
    "x = [accuracy_score, e_accuracy_score, qi_accuracy_score, qi_e_accuracy_score, ql_accuracy_score, ql_e_accuracy_score]\n",
    "y = ['Baseline-fp32', 'Equalized-fp32', 'Baseline-IOps', 'Equalized-IOps', 'Baseline-LOps', 'Equalized-LOps']\n",
    "title = \"MobileNetV2 Accuracy Results\"\n",
    "x_label = \"Model Type\"\n",
    "y_label = \"Accuracy (proportion)\"\n",
    "    \n",
    "plot_statistic(x, y, title, x_label, y_label)"
   ]
  },
  {
   "cell_type": "markdown",
   "metadata": {},
   "source": [
    "### 6d. Model Inference F1 Score\n",
    "\n",
    "For comparison, results of the F1 score are included. The behavior is similar to what was observed in the accuracy calculation. "
   ]
  },
  {
   "cell_type": "code",
   "execution_count": 31,
   "metadata": {},
   "outputs": [
    {
     "name": "stdout",
     "output_type": "stream",
     "text": [
      "Validation accuracy results are below.\n",
      "\n",
      "\t\tBaseline\tEqualized\n",
      "float32 \t0.668333\t0.668333\n",
      "IntegerOps\t0.410075\t0.507652\n",
      "QLinearOps\t0.253002\t0.433317\n"
     ]
    }
   ],
   "source": [
    "f1_score      = sklearn.metrics.f1_score(true_labels, pred_labels, average=\"weighted\")\n",
    "e_f1_score    = sklearn.metrics.f1_score(e_true_labels, e_pred_labels, average=\"weighted\")\n",
    "qi_f1_score   = sklearn.metrics.f1_score(qi_true_labels, qi_pred_labels, average=\"weighted\")\n",
    "qi_e_f1_score = sklearn.metrics.f1_score(qi_e_true_labels, qi_e_pred_labels, average=\"weighted\")\n",
    "ql_f1_score   = sklearn.metrics.f1_score(ql_true_labels, ql_pred_labels, average=\"weighted\")\n",
    "ql_e_f1_score = sklearn.metrics.f1_score(ql_e_true_labels, ql_e_pred_labels, average=\"weighted\")\n",
    "\n",
    "print('Validation accuracy results are below.\\n')\n",
    "\n",
    "simple_table(\n",
    "    data_multilist = [[f1_score,    e_f1_score   ] ,\n",
    "                      [qi_f1_score, qi_e_f1_score] ,\n",
    "                      [ql_f1_score, ql_e_f1_score]],\n",
    "    x_label_list = [\"Baseline\", \"Equalized\"],\n",
    "    y_label_list = [\"float32 \", \"IntegerOps\", \"QLinearOps\"]\n",
    ")"
   ]
  },
  {
   "cell_type": "code",
   "execution_count": 32,
   "metadata": {},
   "outputs": [
    {
     "data": {
      "image/png": "[encoded data removed]",
      "text/plain": [
       "<Figure size 864x432 with 1 Axes>"
      ]
     },
     "metadata": {},
     "output_type": "display_data"
    }
   ],
   "source": [
    "x = [f1_score, e_f1_score, qi_f1_score, qi_e_f1_score, ql_f1_score, ql_e_f1_score]\n",
    "y = ['Baseline-fp32', 'Equalized-fp32', 'Baseline-IOps', 'Equalized-IOps', 'Baseline-LOps', 'Equalized-LOps']\n",
    "title = \"MobileNetV2 F1 Score Results\"\n",
    "x_label = \"Model Type\"\n",
    "y_label = \"F1 Score\"\n",
    "    \n",
    "plot_statistic(x, y, title, x_label, y_label)"
   ]
  },
  {
   "cell_type": "markdown",
   "metadata": {},
   "source": [
    "### 6e. Model Size"
   ]
  },
  {
   "cell_type": "markdown",
   "metadata": {},
   "source": [
    "Below, with and without equalization, we see that model sizes are reduced by quantization. The size reduction is similar between IntegerOps and QLinearOps."
   ]
  },
  {
   "cell_type": "code",
   "execution_count": 33,
   "metadata": {},
   "outputs": [
    {
     "name": "stdout",
     "output_type": "stream",
     "text": [
      "Model sizes are below.\n",
      "\n",
      "\t\tBaseline\tEqualized\n",
      "float32 \t14.186708\t14.258113\n",
      "IntegerOps\t7.648918\t7.751473\n",
      "QLinearOps\t7.646638\t7.724481\n"
     ]
    }
   ],
   "source": [
    "print('Model sizes are below.\\n')\n",
    "\n",
    "simple_table(\n",
    "    data_multilist = [[onnx_size_mb,    e_onnx_size_mb   ] ,\n",
    "                      [qi_onnx_size_mb, qi_e_onnx_size_mb] ,\n",
    "                      [ql_onnx_size_mb, ql_e_onnx_size_mb]],\n",
    "    x_label_list = [\"Baseline\", \"Equalized\"],\n",
    "    y_label_list = [\"float32 \", \"IntegerOps\", \"QLinearOps\"]\n",
    ")"
   ]
  },
  {
   "cell_type": "code",
   "execution_count": 34,
   "metadata": {},
   "outputs": [
    {
     "data": {
      "image/png": "[encoded data removed]",
      "text/plain": [
       "<Figure size 864x432 with 1 Axes>"
      ]
     },
     "metadata": {},
     "output_type": "display_data"
    }
   ],
   "source": [
    "x = [onnx_size_mb, e_onnx_size_mb, qi_onnx_size_mb, qi_e_onnx_size_mb, ql_onnx_size_mb, ql_e_onnx_size_mb]\n",
    "y = ['Baseline-fp32', 'Equalized-fp32', 'Baseline-IOps', 'Equalized-IOps', 'Baseline-LOps', 'Equalized-LOps']\n",
    "title = \"MobileNetV2 Model Size\"\n",
    "x_label = \"Model Type\"\n",
    "y_label = \"Model Size (MB)\"\n",
    "    \n",
    "plot_statistic(x, y, title, x_label, y_label)"
   ]
  },
  {
   "cell_type": "markdown",
   "metadata": {},
   "source": [
    "### Summary\n",
    "\n",
    "#### Advantages of Equalization\n",
    "- Large gains in accuracy in models with depthwise convolutions\n",
    "- Future proof, theoretically shows gains in int6 (though not as large)\n",
    "- It produces an optimized network, so you can stack other techniques\n",
    "- Data-free quantization technique, which only needs the network to function\n",
    "\n",
    "#### Challenges and Limitations\n",
    "- The algorithm is designed for simplified topologies (Conv, BN, ReLU)\n",
    "- Some models already seeing high accuracy see only marginal benifit (e.g. ResNet)\n",
    "\n",
    "#### Future Work and Improvements\n",
    "- Testing equalization in an environment with int4 capabilities\n",
    "- Needs to be tested on additional models to become more robust to errors\n",
    "- Bias Correction is also suggested in the original paper, with 1-3% gains"
   ]
  },
  {
   "cell_type": "markdown",
   "metadata": {},
   "source": [
    "## Appendix"
   ]
  },
  {
   "cell_type": "markdown",
   "metadata": {},
   "source": [
    "Below are details of the system information and packages used to generate the results in this notebook. "
   ]
  },
  {
   "cell_type": "code",
   "execution_count": 35,
   "metadata": {},
   "outputs": [
    {
     "data": {
      "text/plain": [
       "{'python_version': '3.8.6.final.0 (64 bit)',\n",
       " 'cpuinfo_version': [7, 0, 0],\n",
       " 'cpuinfo_version_string': '7.0.0',\n",
       " 'arch': 'X86_64',\n",
       " 'bits': 64,\n",
       " 'count': 8,\n",
       " 'arch_string_raw': 'AMD64',\n",
       " 'vendor_id_raw': 'GenuineIntel',\n",
       " 'brand_raw': 'Intel(R) Core(TM) i7-8665U CPU @ 1.90GHz',\n",
       " 'hz_advertised_friendly': '1.9000 GHz',\n",
       " 'hz_actual_friendly': '1.4080 GHz',\n",
       " 'hz_advertised': [1900000000, 0],\n",
       " 'hz_actual': [1408000000, 0],\n",
       " 'l2_cache_size': 1048576,\n",
       " 'stepping': 12,\n",
       " 'model': 142,\n",
       " 'family': 6,\n",
       " 'l3_cache_size': 8388608,\n",
       " 'flags': ['3dnow',\n",
       "  '3dnowprefetch',\n",
       "  'abm',\n",
       "  'acpi',\n",
       "  'adx',\n",
       "  'aes',\n",
       "  'apic',\n",
       "  'avx',\n",
       "  'avx2',\n",
       "  'bmi1',\n",
       "  'bmi2',\n",
       "  'clflush',\n",
       "  'clflushopt',\n",
       "  'cmov',\n",
       "  'cx16',\n",
       "  'cx8',\n",
       "  'de',\n",
       "  'dtes64',\n",
       "  'dts',\n",
       "  'erms',\n",
       "  'est',\n",
       "  'f16c',\n",
       "  'fma',\n",
       "  'fpu',\n",
       "  'fxsr',\n",
       "  'ht',\n",
       "  'hypervisor',\n",
       "  'ia64',\n",
       "  'invpcid',\n",
       "  'lahf_lm',\n",
       "  'mca',\n",
       "  'mce',\n",
       "  'mmx',\n",
       "  'movbe',\n",
       "  'mpx',\n",
       "  'msr',\n",
       "  'mtrr',\n",
       "  'osxsave',\n",
       "  'pae',\n",
       "  'pat',\n",
       "  'pbe',\n",
       "  'pcid',\n",
       "  'pclmulqdq',\n",
       "  'pdcm',\n",
       "  'pge',\n",
       "  'pni',\n",
       "  'popcnt',\n",
       "  'pse',\n",
       "  'pse36',\n",
       "  'rdrnd',\n",
       "  'rdseed',\n",
       "  'sep',\n",
       "  'serial',\n",
       "  'smap',\n",
       "  'smep',\n",
       "  'ss',\n",
       "  'sse',\n",
       "  'sse2',\n",
       "  'sse4_1',\n",
       "  'sse4_2',\n",
       "  'ssse3',\n",
       "  'tm',\n",
       "  'tm2',\n",
       "  'tsc',\n",
       "  'vme',\n",
       "  'xsave',\n",
       "  'xtpr'],\n",
       " 'l2_cache_line_size': 256,\n",
       " 'l2_cache_associativity': 6}"
      ]
     },
     "execution_count": 35,
     "metadata": {},
     "output_type": "execute_result"
    }
   ],
   "source": [
    "import cpuinfo # !conda install -c conda-forge py-cpuinfo\n",
    "cpuinfo.get_cpu_info()"
   ]
  },
  {
   "cell_type": "code",
   "execution_count": 36,
   "metadata": {},
   "outputs": [
    {
     "name": "stdout",
     "output_type": "stream",
     "text": [
      "# packages in environment at C:\\Users\\jkonan\\Anaconda3:\n",
      "#\n",
      "Note: you may need to restart the kernel to use updated packages.\n",
      "\n",
      "# Name                    Version                   Build  Channel\n",
      "_ipyw_jlab_nb_ext_conf    0.1.0                    py38_0  \n",
      "anaconda-client           1.7.2                      py_0    conda-forge\n",
      "anaconda-navigator        1.10.0                   py38_0  \n",
      "argon2-cffi               20.1.0           py38h294d835_2    conda-forge\n",
      "async_generator           1.10                       py_0    conda-forge\n",
      "attrs                     20.3.0             pyhd3deb0d_0    conda-forge\n",
      "backcall                  0.2.0              pyh9f0ad1d_0    conda-forge\n",
      "backports                 1.0                        py_2    conda-forge\n",
      "backports.functools_lru_cache 1.6.1                      py_0    conda-forge\n",
      "beautifulsoup4            4.9.3              pyhb0f4dca_0    conda-forge\n",
      "blas                      2.21                        mkl    conda-forge\n",
      "bleach                    3.2.1              pyh9f0ad1d_0    conda-forge\n",
      "brotlipy                  0.7.0           py38hab1e662_1001    conda-forge\n",
      "bzip2                     1.0.8                he774522_3    conda-forge\n",
      "ca-certificates           2020.11.8            h5b45459_0    conda-forge\n",
      "cerberus                  1.3.2                    pypi_0    pypi\n",
      "certifi                   2020.11.8        py38haa244fe_0    conda-forge\n",
      "cffi                      1.14.3           py38h0e640b1_1    conda-forge\n",
      "chardet                   3.0.4           py38h9bdc248_1008    conda-forge\n",
      "click                     7.1.2              pyh9f0ad1d_0    conda-forge\n",
      "clyent                    1.2.2                      py_1    conda-forge\n",
      "cmake                     3.18.2.post1             pypi_0    pypi\n",
      "colorama                  0.4.4              pyh9f0ad1d_0    conda-forge\n",
      "conda                     4.9.2            py38haa244fe_0    conda-forge\n",
      "conda-build               3.20.5           py38h9bdc248_0    conda-forge\n",
      "conda-env                 2.6.0                         1    conda-forge\n",
      "conda-package-handling    1.7.2            py38h8934438_0    conda-forge\n",
      "conda-verify              3.1.1           py38h32f6830_1002    conda-forge\n",
      "console_shortcut          0.1.1                         4  \n",
      "cryptography              3.2.1            py38hd8c33c5_0    conda-forge\n",
      "cudatoolkit               10.2.89              h74a9793_1  \n",
      "cycler                    0.10.0                     py_2    conda-forge\n",
      "decorator                 4.4.2                      py_0    conda-forge\n",
      "defusedxml                0.6.0                      py_0    conda-forge\n",
      "efficientnet-pytorch      0.7.0                    pypi_0    pypi\n",
      "entrypoints               0.3             pyhd8ed1ab_1003    conda-forge\n",
      "filelock                  3.0.12             pyh9f0ad1d_0    conda-forge\n",
      "freeglut                  3.0.0             h6538335_1005    conda-forge\n",
      "freetype                  2.10.4               h546665d_0    conda-forge\n",
      "future                    0.18.2           py38haa244fe_2    conda-forge\n",
      "git                       2.29.2               h57928b3_1    conda-forge\n",
      "gitdb                     4.0.5                      py_0    conda-forge\n",
      "gitpython                 3.1.11                     py_0    conda-forge\n",
      "glob2                     0.7                        py_0    conda-forge\n",
      "graphviz                  2.38.0            h6538335_1011    conda-forge\n",
      "icu                       67.1                 h33f27b4_0    conda-forge\n",
      "idna                      2.10               pyh9f0ad1d_0    conda-forge\n",
      "importlib-metadata        2.0.0                      py_1    conda-forge\n",
      "importlib_metadata        2.0.0                         1    conda-forge\n",
      "intel-openmp              2020.3             h57928b3_311    conda-forge\n",
      "ipdb                      0.13.3             pyh9f0ad1d_0    conda-forge\n",
      "ipykernel                 5.3.4            py38h7b7c402_1    conda-forge\n",
      "ipython                   7.19.0           py38hc5df569_0    conda-forge\n",
      "ipython_genutils          0.2.0                      py_1    conda-forge\n",
      "ipywidgets                7.5.1              pyh9f0ad1d_1    conda-forge\n",
      "jasper                    2.0.14               hdc05fd1_1    conda-forge\n"
     ]
    }
   ],
   "source": [
    "conda list"
   ]
  },
  {
   "cell_type": "code",
   "execution_count": 37,
   "metadata": {},
   "outputs": [
    {
     "name": "stdout",
     "output_type": "stream",
     "text": [
      "jedi                      0.17.2           py38haa244fe_1    conda-forge\n",
      "jinja2                    2.11.2             pyh9f0ad1d_0    conda-forge\n",
      "joblib                    0.17.0                   pypi_0    pypi\n",
      "jpeg                      9d                   h8ffe710_0    conda-forge\n",
      "json5                     0.9.5              pyh9f0ad1d_0    conda-forge\n",
      "jsonschema                3.2.0                      py_2    conda-forge\n",
      "jupyter_client            6.1.7                      py_0    conda-forge\n",
      "jupyter_contrib_core      0.3.3                      py_2    conda-forge\n",
      "jupyter_contrib_nbextensions 0.5.1            py38h32f6830_1    conda-forge\n",
      "jupyter_core              4.7.0            py38haa244fe_0    conda-forge\n",
      "jupyter_highlight_selected_word 0.2.0           py38h32f6830_1002    conda-forge\n",
      "jupyter_latex_envs        1.4.6           py38h32f6830_1001    conda-forge\n",
      "jupyter_nbextensions_configurator 0.4.1            py38h32f6830_2    conda-forge\n",
      "jupyterlab                2.2.9                      py_0    conda-forge\n",
      "jupyterlab_pygments       0.1.2              pyh9f0ad1d_0    conda-forge\n",
      "jupyterlab_server         1.2.0                      py_0    conda-forge\n",
      "kiwisolver                1.3.1            py38hbd9d945_0    conda-forge\n",
      "libarchive                3.4.3                h793d221_0    conda-forge\n",
      "libblas                   3.8.0                    21_mkl    conda-forge\n",
      "libcblas                  3.8.0                    21_mkl    conda-forge\n",
      "libclang                  10.0.1          default_hf44288c_1    conda-forge\n",
      "libiconv                  1.16                 he774522_0    conda-forge\n",
      "liblapack                 3.8.0                    21_mkl    conda-forge\n",
      "liblapacke                3.8.0                    21_mkl    conda-forge\n",
      "liblief                   0.10.1               ha925a31_2    conda-forge\n",
      "libopencv                 4.5.0                    py38_3    conda-forge\n",
      "libpng                    1.6.37               h1d00b33_2    conda-forge\n",
      "libprotobuf               3.13.0.1             h200bbdf_0    conda-forge\n",
      "libsodium                 1.0.18               h8d14728_1    conda-forge\n",
      "libtiff                   4.1.0                hc10be44_6    conda-forge\n",
      "libwebp-base              1.1.0                h8ffe710_3    conda-forge\n",
      "libxml2                   2.9.10               h1006b36_2    conda-forge\n",
      "libxslt                   1.1.33               h579f668_1    conda-forge\n",
      "lxml                      4.6.1            py38he3d0fc9_0    conda-forge\n",
      "lz4-c                     1.9.2                h62dcd97_2    conda-forge\n",
      "lzo                       2.10              he774522_1000    conda-forge\n",
      "m2-msys2-runtime          2.5.0.17080.65c939c               3  \n",
      "m2-patch                  2.7.5                         2  \n",
      "m2w64-gcc-libgfortran     5.3.0                         6  \n",
      "m2w64-gcc-libs            5.3.0                         7  \n",
      "m2w64-gcc-libs-core       5.3.0                         7  \n",
      "m2w64-gmp                 6.1.0                         2  \n",
      "m2w64-libwinpthread-git   5.0.0.4634.697f757               2  \n",
      "markupsafe                1.1.1            py38hab1e662_2    conda-forge\n",
      "matplotlib                3.3.3            py38haa244fe_0    conda-forge\n",
      "matplotlib-base           3.3.3            py38h34ddff4_0    conda-forge\n",
      "memory_profiler           0.58.0                     py_0    conda-forge\n",
      "menuinst                  1.4.16           py38h32f6830_1    conda-forge\n",
      "mistune                   0.8.4           py38h294d835_1002    conda-forge\n",
      "mkl                       2020.4             hb70f87d_311    conda-forge\n",
      "msys2-conda-epoch         20160418                      1  \n",
      "navigator-updater         0.2.1                    py38_0  \n",
      "nbclient                  0.5.1                      py_0    conda-forge\n",
      "nbconvert                 6.0.7            py38haa244fe_3    conda-forge\n",
      "nbformat                  5.0.8                      py_0    conda-forge\n",
      "nest-asyncio              1.4.3              pyhd8ed1ab_0    conda-forge\n",
      "netron                    4.4.8                    pypi_0    pypi\n",
      "ninja                     1.10.1               h587dcfd_2    conda-forge\n",
      "notebook                  6.1.5            py38haa244fe_0    conda-forge\n",
      "numpy                     1.19.4           py38h0cc643e_1    conda-forge\n",
      "olefile                   0.46               pyh9f0ad1d_1    conda-forge\n",
      "onnx                      1.7.0                    pypi_0    pypi\n",
      "onnxruntime               1.5.2                    pypi_0    pypi\n",
      "opencv                    4.5.0                    py38_3    conda-forge\n",
      "openssl                   1.1.1h               he774522_0    conda-forge\n",
      "packaging                 20.4               pyh9f0ad1d_0    conda-forge\n",
      "pandas                    1.1.4            py38h4c96930_0    conda-forge\n",
      "pandoc                    2.11.2               h8ffe710_0    conda-forge\n",
      "pandocfilters             1.4.2                      py_1    conda-forge\n",
      "parso                     0.7.1              pyh9f0ad1d_0    conda-forge\n",
      "pickleshare               0.7.5                   py_1003    conda-forge\n",
      "pillow                    8.0.1            py38hd8d9125_0    conda-forge\n",
      "pip                       20.2.4                     py_0    conda-forge\n",
      "pkginfo                   1.6.1              pyh9f0ad1d_0    conda-forge\n",
      "powershell_shortcut       0.0.1                         3  \n",
      "prometheus_client         0.9.0              pyhd3deb0d_0    conda-forge\n",
      "prompt-toolkit            3.0.8              pyha770c72_0    conda-forge\n",
      "protobuf                  3.9.2                    pypi_0    pypi\n",
      "psutil                    5.7.3            py38hab1e662_0    conda-forge\n",
      "py-cpuinfo                7.0.0                    pypi_0    pypi\n",
      "py-lief                   0.10.1           py38h4b9bc1a_2    conda-forge\n",
      "py-opencv                 4.5.0            py38hc5df569_3    conda-forge\n",
      "pycosat                   0.6.3           py38hab1e662_1005    conda-forge\n",
      "pycparser                 2.20               pyh9f0ad1d_2    conda-forge\n",
      "pydot                     1.4.1           py38h32f6830_1003    conda-forge\n",
      "pygments                  2.7.2                      py_0    conda-forge\n",
      "pyopenssl                 19.1.0                     py_1    conda-forge\n",
      "pyparsing                 2.4.7              pyh9f0ad1d_0    conda-forge\n",
      "pyqt                      5.12.3           py38h7ae7562_4    conda-forge\n",
      "pyqt5-sip                 4.19.18                  pypi_0    pypi\n",
      "pyqtchart                 5.12                     pypi_0    pypi\n",
      "pyqtwebengine             5.12.1                   pypi_0    pypi\n",
      "pyrsistent                0.17.3           py38h294d835_1    conda-forge\n",
      "pysocks                   1.7.1            py38h9bdc248_2    conda-forge\n",
      "python                    3.8.6           h60c2a47_0_cpython    conda-forge\n",
      "python-dateutil           2.8.1                      py_0    conda-forge\n",
      "python-graphviz           0.15               pyhd3deb0d_0    conda-forge\n",
      "python-libarchive-c       2.9              py38h9bdc248_2    conda-forge\n",
      "python_abi                3.8                      1_cp38    conda-forge\n",
      "pytorch                   1.6.0           py3.8_cuda102_cudnn7_0    pytorch\n",
      "pytorchcv                 0.0.58                   pypi_0    pypi\n",
      "pytz                      2020.4             pyhd8ed1ab_0    conda-forge\n",
      "pywin32                   228              py38h1e8a9f7_0    conda-forge\n",
      "pywinpty                  0.5.7            py38h32f6830_1    conda-forge\n",
      "pyyaml                    5.3.1            py38hab1e662_1    conda-forge\n",
      "pyzmq                     20.0.0           py38h7a0e47e_1    conda-forge\n",
      "qt                        5.12.9               hb2cf2c5_0    conda-forge\n",
      "qtpy                      1.9.0                      py_0    conda-forge\n",
      "requests                  2.25.0             pyhd3deb0d_0    conda-forge\n",
      "ripgrep                   12.1.1               h301d43c_1    conda-forge\n",
      "ruamel_yaml               0.15.80         py38hab1e662_1003    conda-forge\n",
      "scikit-learn              0.23.2                   pypi_0    pypi\n",
      "scipy                     1.5.4                    pypi_0    pypi\n",
      "send2trash                1.5.0                      py_0    conda-forge\n",
      "setuptools                50.3.2                   pypi_0    pypi\n",
      "six                       1.15.0             pyh9f0ad1d_0    conda-forge\n",
      "sklearn                   0.0                      pypi_0    pypi\n",
      "smmap                     3.0.4              pyh9f0ad1d_0    conda-forge\n",
      "soupsieve                 2.0.1                      py_1    conda-forge\n",
      "sqlite                    3.33.0               he774522_1    conda-forge\n",
      "style                     1.1.0                    pypi_0    pypi\n",
      "tensorboardx              2.1                        py_0    conda-forge\n",
      "terminado                 0.9.1            py38haa244fe_1    conda-forge\n",
      "testpath                  0.4.4                      py_0    conda-forge\n",
      "threadpoolctl             2.1.0                    pypi_0    pypi\n",
      "timm                      0.3.1                    pypi_0    pypi\n",
      "tk                        8.6.10               he774522_1    conda-forge\n",
      "torchvision               0.7.0                py38_cu102    pytorch\n",
      "tornado                   6.1              py38h294d835_0    conda-forge\n",
      "tqdm                      4.52.0             pyhd3deb0d_0    conda-forge\n",
      "traitlets                 5.0.5                      py_0    conda-forge\n",
      "typing-extensions         3.7.4.3                       0    conda-forge\n",
      "typing_extensions         3.7.4.3                    py_0    conda-forge\n",
      "update                    0.0.1                    pypi_0    pypi\n",
      "urllib3                   1.25.11                    py_0    conda-forge\n",
      "vc                        14.1                 h869be7e_1    conda-forge\n",
      "vs2015_runtime            14.16.27012          h30e32a0_2    conda-forge\n",
      "wcwidth                   0.2.5              pyh9f0ad1d_2    conda-forge\n",
      "webencodings              0.5.1                      py_1    conda-forge\n",
      "wheel                     0.35.1             pyh9f0ad1d_0    conda-forge\n",
      "widgetsnbextension        3.5.1            py38haa244fe_4    conda-forge\n",
      "win_inet_pton             1.1.0            py38h32f6830_1    conda-forge\n",
      "wincertstore              0.2             py38h32f6830_1005    conda-forge\n",
      "winpty                    0.4.3                         4    conda-forge\n",
      "xmltodict                 0.12.0                     py_0    conda-forge\n",
      "xz                        5.2.5                h62dcd97_1    conda-forge\n",
      "yaml                      0.2.5                he774522_0    conda-forge\n",
      "zeromq                    4.3.3                h0e60522_2    conda-forge\n",
      "zipp                      3.4.0                      py_0    conda-forge\n",
      "zlib                      1.2.11            h62dcd97_1010    conda-forge\n",
      "zstd                      1.4.5                h1f3a1b7_2    conda-forge\n"
     ]
    },
    {
     "name": "stdout",
     "output_type": "stream",
     "text": [
      "anaconda-client==1.7.2\n",
      "anaconda-navigator==1.10.0\n",
      "argon2-cffi @ file:///D:/bld/argon2-cffi_1605217273648/work\n",
      "async-generator==1.10\n",
      "attrs @ file:///home/conda/feedstock_root/build_artifacts/attrs_1605083924122/work\n",
      "backcall @ file:///home/conda/feedstock_root/build_artifacts/backcall_1592338393461/work\n",
      "backports.functools-lru-cache==1.6.1\n",
      "beautifulsoup4 @ file:///home/conda/feedstock_root/build_artifacts/beautifulsoup4_1601745390275/work\n",
      "bleach @ file:///home/conda/feedstock_root/build_artifacts/bleach_1600454382015/work\n",
      "brotlipy==0.7.0\n",
      "Cerberus==1.3.2\n",
      "certifi==2020.11.8\n",
      "cffi @ file:///D:/bld/cffi_1602537433319/work\n",
      "chardet @ file:///D:/bld/chardet_1602255508636/work\n",
      "click==7.1.2\n",
      "clyent==1.2.2\n",
      "cmake==3.18.2.post1\n",
      "colorama @ file:///home/conda/feedstock_root/build_artifacts/colorama_1602866480661/work\n",
      "conda==4.9.2\n",
      "conda-build==3.20.5\n",
      "conda-package-handling @ file:///D:/bld/conda-package-handling_1602877082869/work\n",
      "conda-verify @ file:///D:/bld/conda-verify_1603158504992/work\n",
      "cryptography @ file:///D:/bld/cryptography_1604179264939/work\n",
      "cycler==0.10.0\n",
      "decorator==4.4.2\n",
      "defusedxml==0.6.0\n",
      "efficientnet-pytorch==0.7.0\n",
      "entrypoints @ file:///home/conda/feedstock_root/build_artifacts/entrypoints_1605121927639/work/dist/entrypoints-0.3-py2.py3-none-any.whl\n",
      "filelock @ file:///home/conda/feedstock_root/build_artifacts/filelock_1589994591731/work\n",
      "future @ file:///D:/bld/future_1605203720223/work\n",
      "gitdb @ file:///home/conda/feedstock_root/build_artifacts/gitdb_1588651542737/work\n",
      "GitPython @ file:///home/conda/feedstock_root/build_artifacts/gitpython_1603460643560/work\n",
      "glob2==0.7\n",
      "graphviz @ file:///home/conda/feedstock_root/build_artifacts/python-graphviz_1605462368198/work\n",
      "idna @ file:///home/conda/feedstock_root/build_artifacts/idna_1593328102638/work\n",
      "importlib-metadata @ file:///home/conda/feedstock_root/build_artifacts/importlib-metadata_1602263269022/work\n",
      "ipdb @ file:///home/conda/feedstock_root/build_artifacts/ipdb_1595950402795/work\n",
      "ipykernel @ file:///D:/bld/ipykernel_1602683005810/work/dist/ipykernel-5.3.4-py3-none-any.whl\n",
      "ipython @ file:///D:/bld/ipython_1604159844946/work\n",
      "ipython-genutils==0.2.0\n",
      "ipywidgets @ file:///home/conda/feedstock_root/build_artifacts/ipywidgets_1599554010055/work\n",
      "jedi @ file:///D:/bld/jedi_1605054817163/work\n",
      "Jinja2==2.11.2\n",
      "joblib==0.17.0\n",
      "json5 @ file:///home/conda/feedstock_root/build_artifacts/json5_1600692310011/work\n",
      "jsonschema @ file:///home/conda/feedstock_root/build_artifacts/jsonschema_1602551949684/work\n",
      "jupyter-client @ file:///home/conda/feedstock_root/build_artifacts/jupyter_client_1598486169312/work\n",
      "jupyter-contrib-core==0.3.3\n",
      "jupyter-contrib-nbextensions @ file:///D:/bld/jupyter_contrib_nbextensions_1602805696229/work\n",
      "jupyter-core @ file:///D:/bld/jupyter_core_1605735280365/work\n",
      "jupyter-highlight-selected-word @ file:///D:/bld/jupyter_highlight_selected_word_1603234417974/work\n",
      "jupyter-latex-envs @ file:///D:/bld/jupyter_latex_envs_1602789059680/work\n",
      "jupyter-nbextensions-configurator @ file:///D:/bld/jupyter_nbextensions_configurator_1602769732224/work\n",
      "jupyterlab==2.2.9\n",
      "jupyterlab-pygments @ file:///home/conda/feedstock_root/build_artifacts/jupyterlab_pygments_1601375948261/work\n",
      "jupyterlab-server @ file:///home/conda/feedstock_root/build_artifacts/jupyterlab_server_1593951277307/work\n",
      "kiwisolver @ file:///D:/bld/kiwisolver_1604322452227/work\n",
      "libarchive-c @ file:///D:/bld/python-libarchive-c_1602422843138/work\n",
      "lxml @ file:///D:/bld/lxml_1603105115271/work\n",
      "MarkupSafe @ file:///D:/bld/markupsafe_1602267501600/work\n",
      "matplotlib @ file:///D:/bld/matplotlib-suite_1605180506412/work\n",
      "memory-profiler @ file:///home/conda/feedstock_root/build_artifacts/memory_profiler_1603216722181/work\n",
      "menuinst @ file:///D:/bld/menuinst_1602541318140/work\n",
      "mistune @ file:///D:/bld/mistune_1605115857778/work\n",
      "navigator-updater==0.2.1\n",
      "nbclient @ file:///home/conda/feedstock_root/build_artifacts/nbclient_1602859080374/work\n",
      "nbconvert @ file:///D:/bld/nbconvert_1605402041690/work\n",
      "nbformat @ file:///home/conda/feedstock_root/build_artifacts/nbformat_1602732862338/work\n",
      "nest-asyncio @ file:///home/conda/feedstock_root/build_artifacts/nest-asyncio_1605195931949/work\n",
      "netron==4.4.8\n",
      "notebook @ file:///D:/bld/notebook_1605103957289/work\n",
      "numpy @ file:///D:/bld/numpy_1604946157939/work\n",
      "olefile @ file:///home/conda/feedstock_root/build_artifacts/olefile_1602866521163/work\n",
      "onnx==1.8.0\n",
      "onnxruntime @ file:///C:/Users/jkonan/onnxruntime-1.5.2-cp38-cp38-win_amd64.whl\n",
      "packaging @ file:///home/conda/feedstock_root/build_artifacts/packaging_1589925210001/work\n",
      "pandas @ file:///D:/bld/pandas_1604166777043/work\n",
      "pandocfilters==1.4.2\n",
      "parso @ file:///home/conda/feedstock_root/build_artifacts/parso_1595548966091/work\n",
      "pickleshare @ file:///home/conda/feedstock_root/build_artifacts/pickleshare_1602536217715/work\n",
      "Pillow @ file:///D:/bld/pillow_1604748918199/work\n",
      "pkginfo @ file:///home/conda/feedstock_root/build_artifacts/pkginfo_1603792998002/work\n",
      "prometheus-client @ file:///home/conda/feedstock_root/build_artifacts/prometheus_client_1605543085815/work\n",
      "prompt-toolkit @ file:///home/conda/feedstock_root/build_artifacts/prompt-toolkit_1605053337398/work\n",
      "protobuf==3.13.0\n",
      "Note: you may need to restart the kernel to use updated packages.\n",
      "psutil @ file:///D:/bld/psutil_1603571190351/work\n",
      "py-cpuinfo==7.0.0\n",
      "pycosat @ file:///D:/bld/pycosat_1602278156974/work\n",
      "pycparser @ file:///home/conda/feedstock_root/build_artifacts/pycparser_1593275161868/work\n",
      "pydot @ file:///D:/bld/pydot_1602650922173/work\n",
      "Pygments @ file:///home/conda/feedstock_root/build_artifacts/pygments_1603558917696/work\n",
      "pyOpenSSL==19.1.0\n",
      "pyparsing==2.4.7\n",
      "PyQt5==5.12.3\n",
      "PyQt5-sip==4.19.18\n",
      "PyQtChart==5.12\n",
      "PyQtWebEngine==5.12.1\n",
      "pyrsistent @ file:///D:/bld/pyrsistent_1605115827510/work\n",
      "PySocks @ file:///D:/bld/pysocks_1602327034683/work\n",
      "python-dateutil==2.8.1\n",
      "pytorchcv==0.0.58\n",
      "pytz @ file:///home/conda/feedstock_root/build_artifacts/pytz_1604321279890/work\n",
      "pywin32==228\n",
      "pywinpty @ file:///D:/bld/pywinpty_1602377663724/work\n",
      "PyYAML==5.3.1\n",
      "pyzmq==20.0.0\n",
      "QtPy==1.9.0\n",
      "requests @ file:///home/conda/feedstock_root/build_artifacts/requests_1605186911681/work\n",
      "ruamel-yaml-conda @ file:///D:/bld/ruamel_yaml_1602430512995/work\n",
      "scikit-learn==0.23.2\n",
      "scipy==1.5.4\n",
      "Send2Trash==1.5.0\n",
      "six @ file:///home/conda/feedstock_root/build_artifacts/six_1590081179328/work\n",
      "sklearn==0.0\n",
      "smmap @ file:///home/conda/feedstock_root/build_artifacts/smmap_1588651577140/work\n",
      "soupsieve @ file:///home/conda/feedstock_root/build_artifacts/soupsieve_1597680516047/work\n",
      "style==1.1.0\n",
      "tensorboardX @ file:///home/conda/feedstock_root/build_artifacts/tensorboardx_1594067496847/work\n",
      "terminado @ file:///D:/bld/terminado_1605117138129/work\n",
      "testpath==0.4.4\n",
      "threadpoolctl==2.1.0\n",
      "timm==0.3.1\n",
      "torch==1.6.0\n",
      "torchvision==0.7.0\n",
      "tornado @ file:///D:/bld/tornado_1604105353952/work\n",
      "tqdm @ file:///home/conda/feedstock_root/build_artifacts/tqdm_1605543106900/work\n",
      "traitlets @ file:///home/conda/feedstock_root/build_artifacts/traitlets_1602771532708/work\n",
      "typing-extensions @ file:///home/conda/feedstock_root/build_artifacts/typing_extensions_1602702424206/work\n",
      "update==0.0.1\n",
      "urllib3 @ file:///home/conda/feedstock_root/build_artifacts/urllib3_1603125704209/work\n",
      "wcwidth @ file:///home/conda/feedstock_root/build_artifacts/wcwidth_1600965781394/work\n",
      "webencodings==0.5.1\n",
      "widgetsnbextension @ file:///D:/bld/widgetsnbextension_1605475695976/work\n",
      "win-inet-pton @ file:///D:/bld/win_inet_pton_1602260115377/work\n",
      "wincertstore==0.2\n",
      "xmltodict==0.12.0\n",
      "zipp @ file:///home/conda/feedstock_root/build_artifacts/zipp_1603668650351/work\n"
     ]
    }
   ],
   "source": [
    "pip freeze"
   ]
  },
  {
   "cell_type": "code",
   "execution_count": null,
   "metadata": {},
   "outputs": [],
   "source": []
  }
 ],
 "metadata": {
  "kernelspec": {
   "display_name": "Python 3",
   "language": "python",
   "name": "python3"
  },
  "language_info": {
   "codemirror_mode": {
    "name": "ipython",
    "version": 3
   },
   "file_extension": ".py",
   "mimetype": "text/x-python",
   "name": "python",
   "nbconvert_exporter": "python",
   "pygments_lexer": "ipython3",
   "version": "3.7.9"
  }
 },
 "nbformat": 4,
 "nbformat_minor": 4
}
